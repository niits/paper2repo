{
 "cells": [
  {
   "cell_type": "code",
   "execution_count": 4,
   "metadata": {},
   "outputs": [],
   "source": [
    "import sys\n",
    "sys.path.append('../')"
   ]
  },
  {
   "cell_type": "code",
   "execution_count": 5,
   "metadata": {},
   "outputs": [],
   "source": [
    "from src.crawlers.related_paper_crawler import RelatedPaperCrawler"
   ]
  },
  {
   "cell_type": "code",
   "execution_count": 6,
   "metadata": {},
   "outputs": [],
   "source": [
    "crawler = RelatedPaperCrawler()"
   ]
  },
  {
   "cell_type": "code",
   "execution_count": 7,
   "metadata": {},
   "outputs": [
    {
     "data": {
      "text/plain": [
       "['Hybrid model featuring CNN and LSTM architecture for human activity recognition on smartphone sensor data',\n",
       " 'A multi-layer parallel lstm network for human activity recognition with smartphone sensors',\n",
       " \"Fusion of multiple representations extracted from a single sensor's data for activity recognition using CNNs\",\n",
       " 'Smartphone based human activity recognition with feature selection and dense neural network',\n",
       " 'Human activity recognition for healthcare using smartphones',\n",
       " 'Modified deep residual network architecture deployed on serverless framework of IoT platform based on human activity recognition application',\n",
       " 'Feature fusion using deep learning for smartphone based human activity recognition',\n",
       " 'Human action recognition using deep learning methods on limited sensory data',\n",
       " 'Deep convolutional neural networks for human activity recognition with smartphone sensors',\n",
       " 'Human activity recognition with smartphone inertial sensors using bidir-lstm networks']"
      ]
     },
     "execution_count": 7,
     "metadata": {},
     "output_type": "execute_result"
    }
   ],
   "source": [
    "crawler.find_related_papers(\"Hybrid Model Featuring CNN and LSTM Architecture for Human Activity Recognition on Smartphone Sensor Data\")"
   ]
  },
  {
   "cell_type": "code",
   "execution_count": null,
   "metadata": {},
   "outputs": [],
   "source": []
  }
 ],
 "metadata": {
  "kernelspec": {
   "display_name": "Python 3.8.13 ('paper2repo')",
   "language": "python",
   "name": "python3"
  },
  "language_info": {
   "codemirror_mode": {
    "name": "ipython",
    "version": 3
   },
   "file_extension": ".py",
   "mimetype": "text/x-python",
   "name": "python",
   "nbconvert_exporter": "python",
   "pygments_lexer": "ipython3",
   "version": "3.8.13"
  },
  "orig_nbformat": 4,
  "vscode": {
   "interpreter": {
    "hash": "d5833d298332685f111c69a8b029c2c9bb788b588ad5a7734dca2b877ea251e9"
   }
  }
 },
 "nbformat": 4,
 "nbformat_minor": 2
}
